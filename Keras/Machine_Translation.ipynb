{
  "nbformat": 4,
  "nbformat_minor": 0,
  "metadata": {
    "colab": {
      "name": "sentiment_analysis.ipynb",
      "version": "0.3.2",
      "provenance": [],
      "toc_visible": true
    },
    "kernelspec": {
      "name": "python3",
      "display_name": "Python 3"
    }
  },
  "cells": [
    {
      "cell_type": "code",
      "metadata": {
        "id": "QlqONfJej9l7",
        "colab_type": "code",
        "colab": {}
      },
      "source": [
        "from __future__ import print_function, division\n",
        "from builtins import range\n",
        "# Note: you may need to update your version of future\n",
        "# sudo pip install -U future\n",
        "\n",
        "\n",
        "import os\n",
        "import sys\n",
        "import numpy as np\n",
        "import pandas as pd\n",
        "import matplotlib.pyplot as plt\n",
        "\n",
        "from keras.models import Model\n",
        "from keras.layers import Dense, Embedding, Input\n",
        "from keras.layers import LSTM, Bidirectional\n",
        "from keras.preprocessing.text import Tokenizer\n",
        "from keras.preprocessing.sequence import pad_sequences\n",
        "from keras.optimizers import Adam\n",
        "\n",
        "import keras.backend as K\n",
        "if len(K.tensorflow_backend._get_available_gpus()) > 0:\n",
        "  from keras.layers import CuDNNLSTM as LSTM\n",
        "  from keras.layers import CuDNNGRU as GRU\n",
        "\n",
        "\n",
        "\n",
        "\n",
        "# Hyper Parameters\n",
        "MAX_VOCAB_SIZE = 20000\n",
        "EMBEDDING_DIM = 20\n",
        "VALIDATION_SPLIT = 0.2\n",
        "BATCH_SIZE = 128\n",
        "EPOCHS = 30\n",
        "NUM_SAMPLES = 10000\n",
        "\n",
        "\n",
        "\n",
        "# Where we will store the data\n",
        "input_texts = [] # sentence in original language\n",
        "target_texts = [] # sentence in target language\n",
        "\n"
      ],
      "execution_count": 0,
      "outputs": []
    },
    {
      "cell_type": "markdown",
      "metadata": {
        "id": "Hr2XFbK3oRaJ",
        "colab_type": "text"
      },
      "source": [
        ""
      ]
    },
    {
      "cell_type": "markdown",
      "metadata": {
        "id": "PRhIRO6goUUZ",
        "colab_type": "text"
      },
      "source": [
        "# load data\n"
      ]
    },
    {
      "cell_type": "code",
      "metadata": {
        "id": "azyekSvKoOgT",
        "colab_type": "code",
        "colab": {
          "base_uri": "https://localhost:8080/",
          "height": 34
        },
        "outputId": "52cb7a44-a38d-44af-91a4-d2e8a4abdd76"
      },
      "source": [
        "# download the data at: http://www.manythings.org/anki/\n",
        "t = 0\n",
        "for line in open('pes.txt'):\n",
        "  # only keep a limited number of samples\n",
        "  t += 1\n",
        "  if t > NUM_SAMPLES:\n",
        "    break\n",
        "\n",
        "  # input and target are separated by tab\n",
        "  if '\\t' not in line:\n",
        "    continue\n",
        "\n",
        "  # split up the input and translation\n",
        "  input_text, translation = line.rstrip().split('\\t')\n",
        "\n",
        "  input_texts.append(input_text)\n",
        "  target_texts.append(translation)\n",
        "print(\"num samples:\", len(input_texts))\n",
        "\n"
      ],
      "execution_count": 8,
      "outputs": [
        {
          "output_type": "stream",
          "text": [
            "num samples: 1954\n"
          ],
          "name": "stdout"
        }
      ]
    },
    {
      "cell_type": "markdown",
      "metadata": {
        "id": "upMhyrSgoi27",
        "colab_type": "text"
      },
      "source": [
        ""
      ]
    },
    {
      "cell_type": "markdown",
      "metadata": {
        "id": "kGJPuu9UokOc",
        "colab_type": "text"
      },
      "source": [
        "## Preprocessing"
      ]
    },
    {
      "cell_type": "code",
      "metadata": {
        "id": "HuBYXZNUog2C",
        "colab_type": "code",
        "colab": {
          "base_uri": "https://localhost:8080/",
          "height": 51
        },
        "outputId": "77e9d7bf-ae8c-49aa-fc31-58d0fb4832af"
      },
      "source": [
        "\n",
        "tokenizer_inputs = Tokenizer(num_words=MAX_VOCAB_SIZE)\n",
        "tokenizer_inputs.fit_on_texts(input_texts)\n",
        "input_sequences = tokenizer_inputs.texts_to_sequences(input_texts)\n",
        "\n",
        "# get the word to index mapping for input language\n",
        "word2idx_inputs = tokenizer_inputs.word_index\n",
        "print('Found %s unique input tokens.' % len(word2idx_inputs))\n",
        "num_words_input = len(word2idx_inputs) + 1\n",
        "\n",
        "# determine maximum length input sequence\n",
        "max_len_input = max(len(s) for s in input_sequences)\n",
        "\n",
        "# tokenize the outputs\n",
        "# don't filter out special characters\n",
        "# otherwise <sos> and <eos> won't appear\n",
        "tokenizer_outputs = Tokenizer(num_words=MAX_VOCAB_SIZE, filters='')\n",
        "tokenizer_outputs.fit_on_texts(target_texts)\n",
        "target_sequences = tokenizer_outputs.texts_to_sequences(target_texts)\n",
        "\n",
        "# get the word to index mapping for output language\n",
        "word2idx_outputs = tokenizer_outputs.word_index\n",
        "print('Found %s unique output tokens.' % len(word2idx_outputs))\n",
        "\n",
        "# store number of output words for later\n",
        "# remember to add 1 since indexing starts at 1\n",
        "num_words_output = len(word2idx_outputs) + 1\n",
        "\n",
        "# determine maximum length output sequence\n",
        "max_len_target = max(len(s) for s in target_sequences)\n",
        "\n",
        "\n",
        "max_len_both = max(max_len_input, max_len_target)\n",
        "\n",
        "\n",
        "\n",
        "# pad the sequences\n",
        "inputs_padded = pad_sequences(input_sequences, maxlen=max_len_both)\n",
        "targets_padded = pad_sequences(target_sequences, maxlen=max_len_both)\n",
        "\n",
        "\n",
        "\n",
        "# create targets, since we cannot use sparse\n",
        "# categorical cross entropy when we have sequences\n",
        "targets_padded_one_hot = np.zeros(\n",
        "  (\n",
        "    len(targets_padded),\n",
        "    max_len_both,\n",
        "    num_words_output\n",
        "  ),\n",
        "  dtype='float32'\n",
        ")\n",
        "\n",
        "# assign the values\n",
        "for i, d in enumerate(targets_padded):\n",
        "  for t, word in enumerate(d):\n",
        "    targets_padded_one_hot[i, t, word] = 1\n",
        "\n",
        "\n"
      ],
      "execution_count": 9,
      "outputs": [
        {
          "output_type": "stream",
          "text": [
            "Found 2260 unique input tokens.\n",
            "Found 3479 unique output tokens.\n"
          ],
          "name": "stdout"
        }
      ]
    },
    {
      "cell_type": "markdown",
      "metadata": {
        "id": "aPLbYW-Oosaz",
        "colab_type": "text"
      },
      "source": [
        "# Create Mode"
      ]
    },
    {
      "cell_type": "code",
      "metadata": {
        "id": "grlthl2fosB0",
        "colab_type": "code",
        "colab": {
          "base_uri": "https://localhost:8080/",
          "height": 1646
        },
        "outputId": "d6196b32-57e7-4a11-f735-fa0d317b8f2d"
      },
      "source": [
        "# create an LSTM network with a single LSTM\n",
        "input_ = Input(shape=(max_len_both,))\n",
        "x = Embedding(num_words_input, EMBEDDING_DIM)(input_)\n",
        "x = Bidirectional(LSTM(15, return_sequences=True))(x)\n",
        "output = Dense(num_words_output, activation='softmax')(x)\n",
        "\n",
        "model = Model(input_, output)\n",
        "model.compile(\n",
        "  loss='categorical_crossentropy',\n",
        "  optimizer=Adam(lr=0.1),\n",
        "  metrics=['accuracy']\n",
        ")\n",
        "\n",
        "\n",
        "print('Training model...')\n",
        "r = model.fit(\n",
        "  inputs_padded,\n",
        "  targets_padded_one_hot,\n",
        "  batch_size=BATCH_SIZE,\n",
        "  epochs=EPOCHS,\n",
        "  validation_split=VALIDATION_SPLIT\n",
        ")\n",
        "\n",
        "# plot some data\n",
        "plt.plot(r.history['loss'], label='loss')\n",
        "plt.plot(r.history['val_loss'], label='val_loss')\n",
        "plt.legend()\n",
        "plt.show()\n",
        "\n",
        "# accuracies\n",
        "plt.plot(r.history['acc'], label='acc')\n",
        "plt.plot(r.history['val_acc'], label='val_acc')\n",
        "plt.legend()\n",
        "plt.show()"
      ],
      "execution_count": 10,
      "outputs": [
        {
          "output_type": "stream",
          "text": [
            "Training model...\n",
            "WARNING:tensorflow:From /usr/local/lib/python3.6/dist-packages/tensorflow/python/ops/math_grad.py:102: div (from tensorflow.python.ops.math_ops) is deprecated and will be removed in a future version.\n",
            "Instructions for updating:\n",
            "Deprecated in favor of operator or tf.math.divide.\n",
            "Train on 1563 samples, validate on 391 samples\n",
            "Epoch 1/30\n",
            "1563/1563 [==============================] - 11s 7ms/step - loss: 3.1795 - acc: 0.7213 - val_loss: 3.6740 - val_acc: 0.6168\n",
            "Epoch 2/30\n",
            "1563/1563 [==============================] - 9s 6ms/step - loss: 1.6971 - acc: 0.7861 - val_loss: 3.1074 - val_acc: 0.6111\n",
            "Epoch 3/30\n",
            "1563/1563 [==============================] - 9s 6ms/step - loss: 1.5415 - acc: 0.7878 - val_loss: 3.0859 - val_acc: 0.6179\n",
            "Epoch 4/30\n",
            "1563/1563 [==============================] - 9s 6ms/step - loss: 1.4633 - acc: 0.7896 - val_loss: 3.1235 - val_acc: 0.6159\n",
            "Epoch 5/30\n",
            "1563/1563 [==============================] - 9s 6ms/step - loss: 1.4139 - acc: 0.7910 - val_loss: 3.1556 - val_acc: 0.6167\n",
            "Epoch 6/30\n",
            "1563/1563 [==============================] - 9s 6ms/step - loss: 1.3700 - acc: 0.7920 - val_loss: 3.1872 - val_acc: 0.6181\n",
            "Epoch 7/30\n",
            "1563/1563 [==============================] - 9s 6ms/step - loss: 1.3324 - acc: 0.7925 - val_loss: 3.2218 - val_acc: 0.6165\n",
            "Epoch 8/30\n",
            "1563/1563 [==============================] - 9s 6ms/step - loss: 1.2979 - acc: 0.7934 - val_loss: 3.2530 - val_acc: 0.6182\n",
            "Epoch 9/30\n",
            "1563/1563 [==============================] - 9s 5ms/step - loss: 1.2679 - acc: 0.7934 - val_loss: 3.2904 - val_acc: 0.6166\n",
            "Epoch 10/30\n",
            "1563/1563 [==============================] - 9s 6ms/step - loss: 1.2386 - acc: 0.7943 - val_loss: 3.3170 - val_acc: 0.6166\n",
            "Epoch 11/30\n",
            "1563/1563 [==============================] - 9s 6ms/step - loss: 1.2096 - acc: 0.7950 - val_loss: 3.3402 - val_acc: 0.6178\n",
            "Epoch 12/30\n",
            "1563/1563 [==============================] - 9s 5ms/step - loss: 1.1819 - acc: 0.7971 - val_loss: 3.3821 - val_acc: 0.6151\n",
            "Epoch 13/30\n",
            "1563/1563 [==============================] - 9s 6ms/step - loss: 1.1522 - acc: 0.7990 - val_loss: 3.4107 - val_acc: 0.6136\n",
            "Epoch 14/30\n",
            "1563/1563 [==============================] - 9s 6ms/step - loss: 1.1231 - acc: 0.8006 - val_loss: 3.4546 - val_acc: 0.6150\n",
            "Epoch 15/30\n",
            "1563/1563 [==============================] - 9s 6ms/step - loss: 1.0946 - acc: 0.8033 - val_loss: 3.4945 - val_acc: 0.6135\n",
            "Epoch 16/30\n",
            "1563/1563 [==============================] - 9s 5ms/step - loss: 1.0639 - acc: 0.8061 - val_loss: 3.5291 - val_acc: 0.6144\n",
            "Epoch 17/30\n",
            "1563/1563 [==============================] - 9s 6ms/step - loss: 1.0403 - acc: 0.8074 - val_loss: 3.5551 - val_acc: 0.6119\n",
            "Epoch 18/30\n",
            "1563/1563 [==============================] - 9s 6ms/step - loss: 1.0122 - acc: 0.8102 - val_loss: 3.5930 - val_acc: 0.6102\n",
            "Epoch 19/30\n",
            "1563/1563 [==============================] - 9s 6ms/step - loss: 0.9989 - acc: 0.8123 - val_loss: 3.6333 - val_acc: 0.6116\n",
            "Epoch 20/30\n",
            "1563/1563 [==============================] - 9s 6ms/step - loss: 0.9763 - acc: 0.8141 - val_loss: 3.6669 - val_acc: 0.6117\n",
            "Epoch 21/30\n",
            "1563/1563 [==============================] - 9s 5ms/step - loss: 0.9513 - acc: 0.8161 - val_loss: 3.6904 - val_acc: 0.6108\n",
            "Epoch 22/30\n",
            "1563/1563 [==============================] - 9s 6ms/step - loss: 0.9367 - acc: 0.8192 - val_loss: 3.7258 - val_acc: 0.6099\n",
            "Epoch 23/30\n",
            "1563/1563 [==============================] - 9s 6ms/step - loss: 0.9127 - acc: 0.8221 - val_loss: 3.7530 - val_acc: 0.6103\n",
            "Epoch 24/30\n",
            "1563/1563 [==============================] - 9s 6ms/step - loss: 0.8935 - acc: 0.8235 - val_loss: 3.7850 - val_acc: 0.6091\n",
            "Epoch 25/30\n",
            "1563/1563 [==============================] - 9s 6ms/step - loss: 0.8796 - acc: 0.8258 - val_loss: 3.8191 - val_acc: 0.6081\n",
            "Epoch 26/30\n",
            "1563/1563 [==============================] - 9s 6ms/step - loss: 0.8703 - acc: 0.8271 - val_loss: 3.8292 - val_acc: 0.6084\n",
            "Epoch 27/30\n",
            "1563/1563 [==============================] - 9s 6ms/step - loss: 0.8652 - acc: 0.8282 - val_loss: 3.8472 - val_acc: 0.6097\n",
            "Epoch 28/30\n",
            "1563/1563 [==============================] - 9s 6ms/step - loss: 0.8515 - acc: 0.8284 - val_loss: 3.8638 - val_acc: 0.6088\n",
            "Epoch 29/30\n",
            "1563/1563 [==============================] - 9s 6ms/step - loss: 0.8397 - acc: 0.8305 - val_loss: 3.8846 - val_acc: 0.6076\n",
            "Epoch 30/30\n",
            "1563/1563 [==============================] - 9s 6ms/step - loss: 0.8351 - acc: 0.8310 - val_loss: 3.9134 - val_acc: 0.6059\n"
          ],
          "name": "stdout"
        },
        {
          "output_type": "display_data",
          "data": {
            "image/png": "[encoded data removed]",
            "text/plain": [
              "<Figure size 432x288 with 1 Axes>"
            ]
          },
          "metadata": {
            "tags": []
          }
        },
        {
          "output_type": "display_data",
          "data": {
            "image/png": "[encoded data removed]",
            "text/plain": [
              "<Figure size 432x288 with 1 Axes>"
            ]
          },
          "metadata": {
            "tags": []
          }
        }
      ]
    }
  ]
}