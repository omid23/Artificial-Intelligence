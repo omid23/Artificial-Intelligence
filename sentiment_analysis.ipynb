{
  "nbformat": 4,
  "nbformat_minor": 0,
  "metadata": {
    "colab": {
      "name": "sentiment_analysis.ipynb",
      "version": "0.3.2",
      "provenance": []
    },
    "kernelspec": {
      "name": "python3",
      "display_name": "Python 3"
    }
  },
  "cells": [
    {
      "cell_type": "code",
      "metadata": {
        "id": "QlqONfJej9l7",
        "colab_type": "code",
        "colab": {
          "base_uri": "https://localhost:8080/",
          "height": 34
        },
        "outputId": "7630c0a8-5d7d-49f6-ef5f-32366c367c28"
      },
      "source": [
        "from __future__ import print_function, division\n",
        "from builtins import range\n",
        "\n",
        "import os\n",
        "import sys\n",
        "import numpy as np\n",
        "import pandas as pd\n",
        "import matplotlib.pyplot as plt\n",
        "\n",
        "from keras.models import Model\n",
        "from keras.layers import Dense, Embedding, Input\n",
        "from keras.layers import LSTM, GRU\n",
        "from keras.preprocessing.text import Tokenizer\n",
        "from keras.preprocessing.sequence import pad_sequences\n",
        "\n",
        "import keras.backend as K\n",
        "if len(K.tensorflow_backend._get_available_gpus()) > 0:\n",
        "  from keras.layers import CuDNNLSTM as LSTM\n",
        "  from keras.layers import CuDNNGRU as GRU\n",
        "\n",
        "\n",
        "\n",
        "# some HyperParameteres\n",
        "MAX_SEQUENCE_LENGTH = 50\n",
        "MAX_VOCAB_SIZE = 20000\n",
        "EMBEDDING_DIM = 10\n",
        "VALIDATION_SPLIT = 0.2\n",
        "BATCH_SIZE = 128\n",
        "EPOCHS = 5\n",
        "\n",
        "\n",
        "\n"
      ],
      "execution_count": 3,
      "outputs": [
        {
          "output_type": "stream",
          "text": [
            "Using TensorFlow backend.\n"
          ],
          "name": "stderr"
        }
      ]
    },
    {
      "cell_type": "markdown",
      "metadata": {
        "id": "kAzcgg5MlD7Y",
        "colab_type": "text"
      },
      "source": [
        "# Load Data and Preprocessing"
      ]
    },
    {
      "cell_type": "code",
      "metadata": {
        "id": "QV_OWJESk_5l",
        "colab_type": "code",
        "colab": {
          "base_uri": "https://localhost:8080/",
          "height": 102
        },
        "outputId": "2dcdee4d-4e7d-4513-d729-34c28a6ed766"
      },
      "source": [
        "\n",
        "# get the data at: https://www.kaggle.com/c/sentiment-analysis-on-movie-reviews/data\n",
        "train = pd.read_csv(\"train.tsv\", sep='\\t')\n",
        "sentences = train[\"Phrase\"].values\n",
        "targets = (train['Sentiment'].values > 3)\n",
        "K = len(set(targets))\n",
        "\n",
        "\n",
        "\n",
        "# convert the sentences (strings) into integers\n",
        "tokenizer = Tokenizer(num_words=MAX_VOCAB_SIZE)\n",
        "tokenizer.fit_on_texts(sentences)\n",
        "sequences = tokenizer.texts_to_sequences(sentences)\n",
        "\n",
        "print(\"max sequence length:\", max(len(s) for s in sequences))\n",
        "print(\"min sequence length:\", min(len(s) for s in sequences))\n",
        "s = sorted(len(s) for s in sequences)\n",
        "print(\"median sequence length:\", s[len(s) // 2])\n",
        "\n",
        "maxlen = min(max(len(s) for s in sequences), MAX_SEQUENCE_LENGTH)\n",
        "\n",
        "\n",
        "# get word -> integer mapping\n",
        "word2idx = tokenizer.word_index\n",
        "print('Found %s unique tokens.' % len(word2idx))\n",
        "\n",
        "\n",
        "# pad sequences so that we get a N x T matrix\n",
        "data = pad_sequences(sequences, maxlen=maxlen)\n",
        "print('Shape of data tensor:', data.shape)\n",
        "\n",
        "\n"
      ],
      "execution_count": 4,
      "outputs": [
        {
          "output_type": "stream",
          "text": [
            "max sequence length: 49\n",
            "min sequence length: 0\n",
            "median sequence length: 4\n",
            "Found 15288 unique tokens.\n",
            "Shape of data tensor: (156060, 49)\n"
          ],
          "name": "stdout"
        }
      ]
    },
    {
      "cell_type": "markdown",
      "metadata": {
        "id": "qAiJ17Dyl1nI",
        "colab_type": "text"
      },
      "source": [
        "# Making Model"
      ]
    },
    {
      "cell_type": "code",
      "metadata": {
        "id": "aIHQ3UrTlxe6",
        "colab_type": "code",
        "colab": {
          "base_uri": "https://localhost:8080/",
          "height": 847
        },
        "outputId": "ca5acc86-b957-4182-d0e2-0c49d6717e24"
      },
      "source": [
        "# create an LSTM network with a single LSTM\n",
        "input_ = Input(shape=(maxlen,))\n",
        "x = Embedding(len(word2idx) + 1, EMBEDDING_DIM)(input_)\n",
        "x = LSTM(5)(x)\n",
        "output = Dense(K, activation='softmax')(x)\n",
        "\n",
        "model = Model(input_, output)\n",
        "model.compile(\n",
        "  loss='sparse_categorical_crossentropy',\n",
        "  optimizer='adam',\n",
        "  metrics=['accuracy']\n",
        ")\n",
        "\n",
        "print('Training model...')\n",
        "r = model.fit(\n",
        "  data,\n",
        "  targets,\n",
        "  batch_size=BATCH_SIZE,\n",
        "  epochs=EPOCHS,\n",
        "  validation_split=VALIDATION_SPLIT\n",
        ")\n",
        "\n",
        "# plot some data\n",
        "plt.plot(r.history['loss'], label='loss')\n",
        "plt.plot(r.history['val_loss'], label='val_loss')\n",
        "plt.legend()\n",
        "plt.show()\n",
        "\n",
        "# accuracies\n",
        "plt.plot(r.history['acc'], label='acc')\n",
        "plt.plot(r.history['val_acc'], label='val_acc')\n",
        "plt.legend()\n",
        "plt.show()"
      ],
      "execution_count": 5,
      "outputs": [
        {
          "output_type": "stream",
          "text": [
            "WARNING:tensorflow:From /usr/local/lib/python3.6/dist-packages/tensorflow/python/framework/op_def_library.py:263: colocate_with (from tensorflow.python.framework.ops) is deprecated and will be removed in a future version.\n",
            "Instructions for updating:\n",
            "Colocations handled automatically by placer.\n",
            "Training model...\n",
            "WARNING:tensorflow:From /usr/local/lib/python3.6/dist-packages/tensorflow/python/ops/math_ops.py:3066: to_int32 (from tensorflow.python.ops.math_ops) is deprecated and will be removed in a future version.\n",
            "Instructions for updating:\n",
            "Use tf.cast instead.\n",
            "Train on 124848 samples, validate on 31212 samples\n",
            "Epoch 1/5\n",
            "124848/124848 [==============================] - 32s 254us/step - loss: 0.2126 - acc: 0.9390 - val_loss: 0.1722 - val_acc: 0.9409\n",
            "Epoch 2/5\n",
            "124848/124848 [==============================] - 31s 246us/step - loss: 0.1290 - acc: 0.9493 - val_loss: 0.1680 - val_acc: 0.9378\n",
            "Epoch 3/5\n",
            "124848/124848 [==============================] - 31s 246us/step - loss: 0.1143 - acc: 0.9529 - val_loss: 0.1720 - val_acc: 0.9347\n",
            "Epoch 4/5\n",
            "124848/124848 [==============================] - 31s 245us/step - loss: 0.1071 - acc: 0.9543 - val_loss: 0.1756 - val_acc: 0.9359\n",
            "Epoch 5/5\n",
            "124848/124848 [==============================] - 31s 245us/step - loss: 0.1024 - acc: 0.9558 - val_loss: 0.1821 - val_acc: 0.9301\n"
          ],
          "name": "stdout"
        },
        {
          "output_type": "display_data",
          "data": {
            "image/png": "[encoded data removed]",
            "text/plain": [
              "<Figure size 432x288 with 1 Axes>"
            ]
          },
          "metadata": {
            "tags": []
          }
        },
        {
          "output_type": "display_data",
          "data": {
            "image/png": "[encoded data removed]",
            "text/plain": [
              "<Figure size 432x288 with 1 Axes>"
            ]
          },
          "metadata": {
            "tags": []
          }
        }
      ]
    }
  ]
}